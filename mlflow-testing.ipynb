{
 "cells": [
  {
   "cell_type": "code",
   "execution_count": 1,
   "metadata": {},
   "outputs": [],
   "source": [
    "import pandas as pd, numpy as np\n",
    "from sklearn.model_selection import train_test_split\n",
    "from sklearn.linear_model import LogisticRegression\n",
    "from sklearn.tree import DecisionTreeClassifier\n",
    "from sklearn.ensemble import RandomForestClassifier, GradientBoostingClassifier, AdaBoostClassifier, ExtraTreesClassifier\n",
    "from sklearn.neighbors import KNeighborsClassifier\n",
    "from sklearn.naive_bayes import GaussianNB\n",
    "from sklearn.linear_model import SGDClassifier\n",
    "from sklearn.metrics import classification_report, roc_auc_score, recall_score, precision_score, log_loss, f1_score\n",
    "from imblearn.over_sampling import SMOTE\n",
    "import warnings, mlflow\n",
    "warnings.simplefilter(\"ignore\")"
   ]
  },
  {
   "cell_type": "code",
   "execution_count": 2,
   "metadata": {},
   "outputs": [
    {
     "data": {
      "text/html": [
       "<div>\n",
       "<style scoped>\n",
       "    .dataframe tbody tr th:only-of-type {\n",
       "        vertical-align: middle;\n",
       "    }\n",
       "\n",
       "    .dataframe tbody tr th {\n",
       "        vertical-align: top;\n",
       "    }\n",
       "\n",
       "    .dataframe thead th {\n",
       "        text-align: right;\n",
       "    }\n",
       "</style>\n",
       "<table border=\"1\" class=\"dataframe\">\n",
       "  <thead>\n",
       "    <tr style=\"text-align: right;\">\n",
       "      <th></th>\n",
       "      <th>Temperature</th>\n",
       "      <th>Humidity</th>\n",
       "      <th>PM2.5</th>\n",
       "      <th>PM10</th>\n",
       "      <th>NO2</th>\n",
       "      <th>SO2</th>\n",
       "      <th>CO</th>\n",
       "      <th>Proximity_to_Industrial_Areas</th>\n",
       "      <th>Population_Density</th>\n",
       "      <th>Air Quality</th>\n",
       "    </tr>\n",
       "  </thead>\n",
       "  <tbody>\n",
       "    <tr>\n",
       "      <th>0</th>\n",
       "      <td>29.8</td>\n",
       "      <td>59.1</td>\n",
       "      <td>5.2</td>\n",
       "      <td>17.9</td>\n",
       "      <td>18.9</td>\n",
       "      <td>9.2</td>\n",
       "      <td>1.72</td>\n",
       "      <td>6.3</td>\n",
       "      <td>319</td>\n",
       "      <td>Moderate</td>\n",
       "    </tr>\n",
       "    <tr>\n",
       "      <th>1</th>\n",
       "      <td>28.3</td>\n",
       "      <td>75.6</td>\n",
       "      <td>2.3</td>\n",
       "      <td>12.2</td>\n",
       "      <td>30.8</td>\n",
       "      <td>9.7</td>\n",
       "      <td>1.64</td>\n",
       "      <td>6.0</td>\n",
       "      <td>611</td>\n",
       "      <td>Moderate</td>\n",
       "    </tr>\n",
       "    <tr>\n",
       "      <th>2</th>\n",
       "      <td>23.1</td>\n",
       "      <td>74.7</td>\n",
       "      <td>26.7</td>\n",
       "      <td>33.8</td>\n",
       "      <td>24.4</td>\n",
       "      <td>12.6</td>\n",
       "      <td>1.63</td>\n",
       "      <td>5.2</td>\n",
       "      <td>619</td>\n",
       "      <td>Moderate</td>\n",
       "    </tr>\n",
       "    <tr>\n",
       "      <th>3</th>\n",
       "      <td>27.1</td>\n",
       "      <td>39.1</td>\n",
       "      <td>6.1</td>\n",
       "      <td>6.3</td>\n",
       "      <td>13.5</td>\n",
       "      <td>5.3</td>\n",
       "      <td>1.15</td>\n",
       "      <td>11.1</td>\n",
       "      <td>551</td>\n",
       "      <td>Good</td>\n",
       "    </tr>\n",
       "    <tr>\n",
       "      <th>4</th>\n",
       "      <td>26.5</td>\n",
       "      <td>70.7</td>\n",
       "      <td>6.9</td>\n",
       "      <td>16.0</td>\n",
       "      <td>21.9</td>\n",
       "      <td>5.6</td>\n",
       "      <td>1.01</td>\n",
       "      <td>12.7</td>\n",
       "      <td>303</td>\n",
       "      <td>Good</td>\n",
       "    </tr>\n",
       "  </tbody>\n",
       "</table>\n",
       "</div>"
      ],
      "text/plain": [
       "   Temperature  Humidity  PM2.5  PM10   NO2   SO2    CO  \\\n",
       "0         29.8      59.1    5.2  17.9  18.9   9.2  1.72   \n",
       "1         28.3      75.6    2.3  12.2  30.8   9.7  1.64   \n",
       "2         23.1      74.7   26.7  33.8  24.4  12.6  1.63   \n",
       "3         27.1      39.1    6.1   6.3  13.5   5.3  1.15   \n",
       "4         26.5      70.7    6.9  16.0  21.9   5.6  1.01   \n",
       "\n",
       "   Proximity_to_Industrial_Areas  Population_Density Air Quality  \n",
       "0                            6.3                 319    Moderate  \n",
       "1                            6.0                 611    Moderate  \n",
       "2                            5.2                 619    Moderate  \n",
       "3                           11.1                 551        Good  \n",
       "4                           12.7                 303        Good  "
      ]
     },
     "execution_count": 2,
     "metadata": {},
     "output_type": "execute_result"
    }
   ],
   "source": [
    "file = r'C:\\Users\\GANAPA\\Downloads\\MLFlow (MLOps)\\pollution_dataset.csv'\n",
    "df = pd.read_csv(file)\n",
    "df.head()"
   ]
  },
  {
   "cell_type": "code",
   "execution_count": 3,
   "metadata": {},
   "outputs": [
    {
     "name": "stdout",
     "output_type": "stream",
     "text": [
      "<class 'pandas.core.frame.DataFrame'>\n",
      "RangeIndex: 5000 entries, 0 to 4999\n",
      "Data columns (total 10 columns):\n",
      " #   Column                         Non-Null Count  Dtype  \n",
      "---  ------                         --------------  -----  \n",
      " 0   Temperature                    5000 non-null   float64\n",
      " 1   Humidity                       5000 non-null   float64\n",
      " 2   PM2.5                          5000 non-null   float64\n",
      " 3   PM10                           5000 non-null   float64\n",
      " 4   NO2                            5000 non-null   float64\n",
      " 5   SO2                            5000 non-null   float64\n",
      " 6   CO                             5000 non-null   float64\n",
      " 7   Proximity_to_Industrial_Areas  5000 non-null   float64\n",
      " 8   Population_Density             5000 non-null   int64  \n",
      " 9   Air Quality                    5000 non-null   object \n",
      "dtypes: float64(8), int64(1), object(1)\n",
      "memory usage: 390.8+ KB\n"
     ]
    }
   ],
   "source": [
    "df.info()"
   ]
  },
  {
   "cell_type": "code",
   "execution_count": 4,
   "metadata": {},
   "outputs": [
    {
     "data": {
      "text/plain": [
       "Temperature                      0\n",
       "Humidity                         0\n",
       "PM2.5                            0\n",
       "PM10                             0\n",
       "NO2                              0\n",
       "SO2                              0\n",
       "CO                               0\n",
       "Proximity_to_Industrial_Areas    0\n",
       "Population_Density               0\n",
       "Air Quality                      0\n",
       "dtype: int64"
      ]
     },
     "execution_count": 4,
     "metadata": {},
     "output_type": "execute_result"
    }
   ],
   "source": [
    "df.isna().sum()"
   ]
  },
  {
   "cell_type": "code",
   "execution_count": 5,
   "metadata": {},
   "outputs": [],
   "source": [
    "x = df.drop('Air Quality',axis=1)\n",
    "y = df['Air Quality']"
   ]
  },
  {
   "cell_type": "code",
   "execution_count": 6,
   "metadata": {},
   "outputs": [
    {
     "data": {
      "text/plain": [
       "Air Quality\n",
       "Good         2000\n",
       "Moderate     1500\n",
       "Poor         1000\n",
       "Hazardous     500\n",
       "Name: count, dtype: int64"
      ]
     },
     "execution_count": 6,
     "metadata": {},
     "output_type": "execute_result"
    }
   ],
   "source": [
    "y.value_counts()"
   ]
  },
  {
   "cell_type": "code",
   "execution_count": 7,
   "metadata": {},
   "outputs": [],
   "source": [
    "smote = SMOTE()\n",
    "x_resampled, y_resampled = smote.fit_resample(x, y)"
   ]
  },
  {
   "cell_type": "code",
   "execution_count": 8,
   "metadata": {},
   "outputs": [
    {
     "data": {
      "text/plain": [
       "Air Quality\n",
       "Moderate     2000\n",
       "Good         2000\n",
       "Hazardous    2000\n",
       "Poor         2000\n",
       "Name: count, dtype: int64"
      ]
     },
     "execution_count": 8,
     "metadata": {},
     "output_type": "execute_result"
    }
   ],
   "source": [
    "y_resampled.value_counts()"
   ]
  },
  {
   "cell_type": "code",
   "execution_count": 9,
   "metadata": {},
   "outputs": [],
   "source": [
    "#mlflow.set_experiment('Air Quality Prediction')\n",
    "mlflow.set_tracking_uri('http://localhost:5000')"
   ]
  },
  {
   "cell_type": "code",
   "execution_count": 10,
   "metadata": {},
   "outputs": [],
   "source": [
    "xtrain, xtest, ytrain, ytest = train_test_split(x_resampled,y_resampled,test_size=0.2,random_state=42)"
   ]
  },
  {
   "cell_type": "code",
   "execution_count": 11,
   "metadata": {},
   "outputs": [],
   "source": [
    "rf = RandomForestClassifier()\n",
    "extratrees = ExtraTreesClassifier()\n",
    "extratrees.fit(xtrain,ytrain)\n",
    "ypred = extratrees.predict(xtest)"
   ]
  },
  {
   "cell_type": "code",
   "execution_count": 133,
   "metadata": {},
   "outputs": [
    {
     "name": "stdout",
     "output_type": "stream",
     "text": [
      "              precision    recall  f1-score   support\n",
      "\n",
      "        Good       1.00      1.00      1.00       418\n",
      "   Hazardous       0.99      0.97      0.98       385\n",
      "    Moderate       0.97      0.98      0.98       417\n",
      "        Poor       0.95      0.96      0.96       380\n",
      "\n",
      "    accuracy                           0.98      1600\n",
      "   macro avg       0.98      0.98      0.98      1600\n",
      "weighted avg       0.98      0.98      0.98      1600\n",
      "\n"
     ]
    }
   ],
   "source": [
    "report = classification_report(ytest,ypred)\n",
    "print(report)"
   ]
  },
  {
   "cell_type": "code",
   "execution_count": 134,
   "metadata": {},
   "outputs": [
    {
     "data": {
      "text/plain": [
       "{'Good': {'precision': 1.0,\n",
       "  'recall': 0.9976076555023924,\n",
       "  'f1-score': 0.9988023952095808,\n",
       "  'support': 418.0},\n",
       " 'Hazardous': {'precision': 0.9868421052631579,\n",
       "  'recall': 0.974025974025974,\n",
       "  'f1-score': 0.9803921568627451,\n",
       "  'support': 385.0},\n",
       " 'Moderate': {'precision': 0.9714964370546318,\n",
       "  'recall': 0.9808153477218226,\n",
       "  'f1-score': 0.9761336515513126,\n",
       "  'support': 417.0},\n",
       " 'Poor': {'precision': 0.9528795811518325,\n",
       "  'recall': 0.9578947368421052,\n",
       "  'f1-score': 0.9553805774278216,\n",
       "  'support': 380.0},\n",
       " 'accuracy': 0.978125,\n",
       " 'macro avg': {'precision': 0.9778045308674055,\n",
       "  'recall': 0.9775859285230736,\n",
       "  'f1-score': 0.977677195262865,\n",
       "  'support': 1600.0},\n",
       " 'weighted avg': {'precision': 0.9782140410098711,\n",
       "  'recall': 0.978125,\n",
       "  'f1-score': 0.9781517085682695,\n",
       "  'support': 1600.0}}"
      ]
     },
     "execution_count": 134,
     "metadata": {},
     "output_type": "execute_result"
    }
   ],
   "source": [
    "report_dict = classification_report(ytest,ypred,output_dict=True)\n",
    "report_dict"
   ]
  },
  {
   "cell_type": "code",
   "execution_count": 19,
   "metadata": {},
   "outputs": [
    {
     "data": {
      "text/plain": [
       "Air Quality\n",
       "Good         2000\n",
       "Moderate     1500\n",
       "Poor         1000\n",
       "Hazardous     500\n",
       "Name: count, dtype: int64"
      ]
     },
     "execution_count": 19,
     "metadata": {},
     "output_type": "execute_result"
    }
   ],
   "source": [
    "df['Air Quality'].value_counts()"
   ]
  },
  {
   "cell_type": "code",
   "execution_count": 13,
   "metadata": {},
   "outputs": [],
   "source": [
    "lr = LogisticRegression()\n",
    "dt = DecisionTreeClassifier()\n",
    "rn = RandomForestClassifier()\n",
    "knn = KNeighborsClassifier()\n",
    "gb = GaussianNB()\n",
    "sgd = SGDClassifier()\n",
    "gbc = GradientBoostingClassifier()\n",
    "abc = AdaBoostClassifier()\n",
    "extratrees = ExtraTreesClassifier()"
   ]
  },
  {
   "cell_type": "code",
   "execution_count": 14,
   "metadata": {},
   "outputs": [
    {
     "data": {
      "text/plain": [
       "array(['Moderate', 'Good', 'Hazardous', 'Poor'], dtype=object)"
      ]
     },
     "execution_count": 14,
     "metadata": {},
     "output_type": "execute_result"
    }
   ],
   "source": [
    "df['Air Quality'].unique()"
   ]
  },
  {
   "cell_type": "code",
   "execution_count": 20,
   "metadata": {},
   "outputs": [
    {
     "name": "stdout",
     "output_type": "stream",
     "text": [
      "Logistic Regression\n",
      "DecisionTree Classifier\n",
      "RandomForest Classifier\n",
      "KNeighbors Classifier\n",
      "GaussianNB\n",
      "SGD Classifier\n",
      "GradientBoosting Classifier\n",
      "AdaBoost Classifier\n",
      "ExtraTrees Classifier\n"
     ]
    }
   ],
   "source": [
    "Li_model = [lr, dt, rn, knn, gb, sgd, gbc, abc, extratrees]\n",
    "models = []\n",
    "model_dict = dict()\n",
    "model_dict_df = dict()\n",
    "evaluation_results = {}\n",
    "for i in Li_model:\n",
    "    model_name = type(i).__name__.replace('Classifier', ' Classifier').replace('Regression', ' Regression')\n",
    "    print(model_name)\n",
    "    i.fit(xtrain, ytrain)\n",
    "    ypred = i.predict(xtest)\n",
    "    report = classification_report(ytest, ypred, output_dict=True)\n",
    "    model_dict.update({model_name: report})\n",
    "    evaluation_results = pd.DataFrame(report).transpose().reset_index().rename(columns={'index':'Metrics'})\n",
    "    models.append(model_name)\n",
    "    model_dict_df.update({model_name:report['accuracy']})"
   ]
  },
  {
   "cell_type": "code",
   "execution_count": null,
   "metadata": {},
   "outputs": [],
   "source": []
  },
  {
   "cell_type": "code",
   "execution_count": null,
   "metadata": {},
   "outputs": [
    {
     "name": "stderr",
     "output_type": "stream",
     "text": [
      "Downloading artifacts: 100%|██████████| 7/7 [00:00<00:00, 1750.34it/s]\n"
     ]
    },
    {
     "name": "stdout",
     "output_type": "stream",
     "text": [
      "🏃 View run LogisticRegression at: http://localhost:5000/#/experiments/964761882172761097/runs/7b1b03ab7069413b9e357547d919da94\n",
      "🧪 View experiment at: http://localhost:5000/#/experiments/964761882172761097\n"
     ]
    },
    {
     "name": "stderr",
     "output_type": "stream",
     "text": [
      "Downloading artifacts: 100%|██████████| 7/7 [00:00<00:00, 1749.29it/s]\n"
     ]
    },
    {
     "name": "stdout",
     "output_type": "stream",
     "text": [
      "🏃 View run DecisionTreeClassifier at: http://localhost:5000/#/experiments/964761882172761097/runs/3f021a33d30f4594bf76f555bd5c1fb8\n",
      "🧪 View experiment at: http://localhost:5000/#/experiments/964761882172761097\n"
     ]
    },
    {
     "name": "stderr",
     "output_type": "stream",
     "text": [
      "Downloading artifacts: 100%|██████████| 7/7 [00:00<00:00, 1750.23it/s]\n"
     ]
    },
    {
     "name": "stdout",
     "output_type": "stream",
     "text": [
      "🏃 View run RandomForestClassifier at: http://localhost:5000/#/experiments/964761882172761097/runs/d8cc3ad7f14342cdaecdc86a0c6c6acc\n",
      "🧪 View experiment at: http://localhost:5000/#/experiments/964761882172761097\n"
     ]
    },
    {
     "name": "stderr",
     "output_type": "stream",
     "text": [
      "Downloading artifacts: 100%|██████████| 7/7 [00:00<00:00, 1400.10it/s]\n"
     ]
    },
    {
     "name": "stdout",
     "output_type": "stream",
     "text": [
      "🏃 View run KNeighborsClassifier at: http://localhost:5000/#/experiments/964761882172761097/runs/8c5aad5cce7a4ecd90eb0ea77f5a64ce\n",
      "🧪 View experiment at: http://localhost:5000/#/experiments/964761882172761097\n"
     ]
    },
    {
     "name": "stderr",
     "output_type": "stream",
     "text": [
      "Downloading artifacts: 100%|██████████| 7/7 [00:00<00:00, 1749.61it/s]\n"
     ]
    },
    {
     "name": "stdout",
     "output_type": "stream",
     "text": [
      "🏃 View run GaussianNB at: http://localhost:5000/#/experiments/964761882172761097/runs/45113a05cd85431b8624741e520eadd4\n",
      "🧪 View experiment at: http://localhost:5000/#/experiments/964761882172761097\n"
     ]
    },
    {
     "name": "stderr",
     "output_type": "stream",
     "text": [
      "Downloading artifacts: 100%|██████████| 7/7 [00:00<00:00, 1751.38it/s]\n"
     ]
    },
    {
     "name": "stdout",
     "output_type": "stream",
     "text": [
      "🏃 View run SGDClassifier at: http://localhost:5000/#/experiments/964761882172761097/runs/084273499d0f4f179e3226db96cf7d1c\n",
      "🧪 View experiment at: http://localhost:5000/#/experiments/964761882172761097\n"
     ]
    },
    {
     "name": "stderr",
     "output_type": "stream",
     "text": [
      "Downloading artifacts: 100%|██████████| 7/7 [00:00<00:00, 2332.58it/s]\n"
     ]
    },
    {
     "name": "stdout",
     "output_type": "stream",
     "text": [
      "🏃 View run GradientBoostingClassifier at: http://localhost:5000/#/experiments/964761882172761097/runs/2622547cf47c41dbb46060ac62a2d52e\n",
      "🧪 View experiment at: http://localhost:5000/#/experiments/964761882172761097\n"
     ]
    },
    {
     "name": "stderr",
     "output_type": "stream",
     "text": [
      "Downloading artifacts: 100%|██████████| 7/7 [00:00<00:00, 1397.37it/s]\n"
     ]
    },
    {
     "name": "stdout",
     "output_type": "stream",
     "text": [
      "🏃 View run AdaBoostClassifier at: http://localhost:5000/#/experiments/964761882172761097/runs/f2ed1bc8200842369f6f9403f5a62669\n",
      "🧪 View experiment at: http://localhost:5000/#/experiments/964761882172761097\n"
     ]
    },
    {
     "name": "stderr",
     "output_type": "stream",
     "text": [
      "Downloading artifacts: 100%|██████████| 7/7 [00:00<00:00, 1000.11it/s]\n"
     ]
    },
    {
     "name": "stdout",
     "output_type": "stream",
     "text": [
      "🏃 View run ExtraTreesClassifier at: http://localhost:5000/#/experiments/964761882172761097/runs/50ea5b1dc2fd47e98788e9afe9de68ad\n",
      "🧪 View experiment at: http://localhost:5000/#/experiments/964761882172761097\n"
     ]
    }
   ],
   "source": [
    "experiment_name = 'Air Quality Pred'\n",
    "mlflow.set_experiment(experiment_name)\n",
    "\n",
    "Li_model = [lr, dt, rn, knn, gb, sgd, gbc, abc, extratrees]\n",
    "models = []\n",
    "model_dict = dict()\n",
    "for i in Li_model:\n",
    "    model_name = type(i).__name__.replace('Classifier', ' Classifier').replace('Regression', ' Regression')\n",
    "    with mlflow.start_run(run_name=model_name, description = f'{model_name} model for air quality classification using metrics like accuracy and recall for various classes.') as run:\n",
    "        i.fit(xtrain, ytrain)\n",
    "        ypred = i.predict(xtest)\n",
    "        report = classification_report(ytest, ypred, output_dict=True)\n",
    "        model_dict.update({model_name: report})\n",
    "        \n",
    "        mlflow.sklearn.log_model(i, model_name, input_example = xtrain.iloc[0:1])\n",
    "        metrics = {\n",
    "            'Accuracy': report['accuracy'],\n",
    "            'F1_Score_Macro': report['macro avg']['f1-score'],\n",
    "            'Train_score': i.score(xtrain, ytrain),\n",
    "            'Test_score': i.score(xtest, ytest),\n",
    "            'Training_f1_score': f1_score(ytrain, i.predict(xtrain), average='macro'),\n",
    "            'Training_precision_score': precision_score(ytrain, i.predict(xtrain), average='macro'),\n",
    "            'Training_recall_score': recall_score(ytrain, i.predict(xtrain), average='macro'),\n",
    "        }\n",
    "        \n",
    "        for class_label in report.keys():\n",
    "            if class_label not in ['accuracy', 'macro avg', 'weighted avg']:\n",
    "                metrics[f'Recall_Class_{class_label}'] = report[class_label]['recall']\n",
    "                metrics[f'Precision_Class_{class_label}'] = report[class_label]['precision']\n",
    "        if hasattr(i, \"predict_proba\"):\n",
    "            metrics['Training_log_loss'] = log_loss(ytrain, i.predict_proba(xtrain))\n",
    "        mlflow.log_metrics(metrics)\n",
    "        mlflow.log_params({key: value for key, value in i.get_params().items()})\n",
    "\n",
    "        model_uri = f'runs:/{mlflow.active_run().info.run_id}/{model_name}'\n",
    "        # mlflow.register_model(model_uri, model_name)    #to regsiter the model for deployment\n",
    "        \n",
    "        mlflow.log_params({'Model': model_name})\n",
    "        mlflow.log_artifact(file)\n",
    "        models.append(model_name)\n",
    "        \n",
    "        mlflow.log_input(mlflow.data.from_pandas(xtrain), context=\"Train\")\n",
    "        mlflow.log_input(mlflow.data.from_pandas(xtest), context=\"Eval\")\n",
    "\n",
    "    mlflow.end_run()"
   ]
  },
  {
   "cell_type": "code",
   "execution_count": 28,
   "metadata": {},
   "outputs": [
    {
     "name": "stdout",
     "output_type": "stream",
     "text": [
      "['Logistic Regression', 'SGD Classifier', 'KNeighbors Classifier', 'GaussianNB', 'RandomForest Classifier', 'DecisionTree Classifier', 'SGD Classifier', 'GradientBoosting Classifier', 'AdaBoost Classifier']\n"
     ]
    }
   ],
   "source": [
    "print(models)"
   ]
  },
  {
   "cell_type": "code",
   "execution_count": 30,
   "metadata": {},
   "outputs": [
    {
     "name": "stderr",
     "output_type": "stream",
     "text": [
      "Downloading artifacts: 100%|██████████| 7/7 [00:02<00:00,  3.24it/s]\n"
     ]
    },
    {
     "data": {
      "text/plain": [
       "array(['Hazardous', 'Good', 'Moderate', 'Hazardous', 'Good'], dtype=object)"
      ]
     },
     "execution_count": 30,
     "metadata": {},
     "output_type": "execute_result"
    }
   ],
   "source": [
    "# using register model to predict\n",
    "\n",
    "name, model_version = 'RandomForest Classifier', '1'\n",
    "model_uri = f'models:/{name}/{model_version}'\n",
    "load_model = mlflow.sklearn.load_model(model_uri)\n",
    "y_pred = load_model.predict(xtest)\n",
    "y_pred[:5]"
   ]
  },
  {
   "cell_type": "code",
   "execution_count": null,
   "metadata": {},
   "outputs": [],
   "source": []
  },
  {
   "cell_type": "code",
   "execution_count": null,
   "metadata": {},
   "outputs": [],
   "source": [
    "# Admin Code"
   ]
  },
  {
   "cell_type": "code",
   "execution_count": 13,
   "metadata": {},
   "outputs": [
    {
     "name": "stdout",
     "output_type": "stream",
     "text": [
      "Experiment ID: 585084346383979865, Name: Air Quality Prediction\n",
      "Experiment ID: 0, Name: Default\n"
     ]
    }
   ],
   "source": [
    "from mlflow.tracking import MlflowClient\n",
    "\n",
    "client = MlflowClient()\n",
    "experiments = client.search_experiments()\n",
    "\n",
    "for experiment in experiments:\n",
    "    print(f\"Experiment ID: {experiment.experiment_id}, Name: {experiment.name}\")"
   ]
  },
  {
   "cell_type": "code",
   "execution_count": null,
   "metadata": {},
   "outputs": [],
   "source": [
    "# to delete experiment\n",
    "\n",
    "experiment_name = 'Air Quality Prediction'\n",
    "client = MlflowClient()\n",
    "experiment = client.get_experiment_by_name(experiment_name)\n",
    "\n",
    "if experiment:\n",
    "\tmlflow.delete_experiment(experiment.experiment_id)\n",
    "\tprint(f\"Experiment '{experiment_name}' deleted.\")\n",
    "else:\n",
    "\tprint(f\"Experiment '{experiment_name}' does not exist.\")"
   ]
  }
 ],
 "metadata": {
  "kernelspec": {
   "display_name": "Python 3",
   "language": "python",
   "name": "python3"
  },
  "language_info": {
   "codemirror_mode": {
    "name": "ipython",
    "version": 3
   },
   "file_extension": ".py",
   "mimetype": "text/x-python",
   "name": "python",
   "nbconvert_exporter": "python",
   "pygments_lexer": "ipython3",
   "version": "3.12.8"
  }
 },
 "nbformat": 4,
 "nbformat_minor": 2
}
